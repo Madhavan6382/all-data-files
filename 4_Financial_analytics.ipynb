{
  "cells": [
    {
      "cell_type": "markdown",
      "source": [
        "# Financial Analytics — Exploratory Data Analysis of stock data"
      ],
      "metadata": {
        "id": "b_muvuHE12ri"
      }
    },
    {
      "cell_type": "markdown",
      "source": [
        "With an increase in the penetration of analytics into numerous facets of our lives, Finance is definitely one of the earliest to catch onto this trend. Given the burgeoning market size in fintech and finance, it would be great to impart some financial skills!\n",
        "Note: This article is meant to teach you some basics of manipulating a stock data set and not make you a quant/stockbroker/algorithmic trader. You would surely need more knowledge in trading ,finance and computing in order to advance in those areas."
      ],
      "metadata": {
        "id": "tDs_tXGv16_r"
      }
    },
    {
      "cell_type": "markdown",
      "source": [
        "### 1. Importing the data\n",
        "Most of the financial dataset that you would require can be easily found on Yahoo Finance! You just need to key in the stock data, click on Historical Data\n",
        "[click here](https://sg.finance.yahoo.com/quote/FB/history?p=FB&guccounter=1&guce_referrer=aHR0cHM6Ly90b3dhcmRzZGF0YXNjaWVuY2UuY29tL2ZpbmFuY2lhbC1hbmFseXRpY3MtZXhwbG9yYXRvcnktZGF0YS1hbmFseXNpcy1vZi1zdG9jay1kYXRhLWQ5OGNiYWRmOThiOQ&guce_referrer_sig=AQAAAB4n8oitemNWFIQQGfqSDO4fMyh5FccDEi9l-Hg2YpOQabhBMczxpkRig75rLFN2Hz8UlkYFedDAoiEMw81fkUXKW7dOM_CL_1ScfLqeoyrbJDecKyEw7Mw-cTx7sAO-IFw7ikNivheVwIWIlFbdgoZWIaYYzB9d9miQyeHlPUSo)"
      ],
      "metadata": {
        "id": "J1JH4wv-2AKb"
      }
    },
    {
      "cell_type": "markdown",
      "source": [
        "After that, set the appropriate time period and remember to click Apply! (Heck, when I first started i kept wondering why the csv i downloaded did not give me the right time frame)"
      ],
      "metadata": {
        "id": "pDEBQoKC2Xqc"
      }
    },
    {
      "cell_type": "code",
      "source": [
        "import pandas as pd \n",
        "import numpy as np\n",
        "from scipy.stats import norm"
      ],
      "metadata": {
        "id": "ZKz09Sle3Gqf"
      },
      "execution_count": 1,
      "outputs": []
    },
    {
      "cell_type": "markdown",
      "source": [
        "As usual, we should always inspect the data and understand the dataframe before we do any further analysis"
      ],
      "metadata": {
        "id": "PCGwdzm-3RQN"
      }
    },
    {
      "cell_type": "code",
      "source": [
        "df = pd.read_csv('https://raw.githubusercontent.com/Indupuvi/Chakradbi/main/FB.csv')\n",
        "df.head()"
      ],
      "metadata": {
        "id": "CTGMDYBz3XhN",
        "colab": {
          "base_uri": "https://localhost:8080/",
          "height": 206
        },
        "outputId": "39aad774-6818-4cf3-ef7c-6ba942ab0f46"
      },
      "execution_count": 2,
      "outputs": [
        {
          "output_type": "execute_result",
          "data": {
            "text/plain": [
              "         Date        Open        High         Low       Close   Adj Close  \\\n",
              "0  2021-04-15  306.339996  310.140015  304.100006  307.820007  307.820007   \n",
              "1  2021-04-16  308.170013  308.950012  304.609985  306.179993  306.179993   \n",
              "2  2021-04-19  305.010010  307.700012  300.559998  302.239990  302.239990   \n",
              "3  2021-04-20  301.989990  305.100006  297.209991  302.649994  302.649994   \n",
              "4  2021-04-21  301.950012  301.980011  297.390015  301.470001  301.470001   \n",
              "\n",
              "     Volume  \n",
              "0  14558300  \n",
              "1  13059200  \n",
              "2  14553500  \n",
              "3  16796400  \n",
              "4  14863500  "
            ],
            "text/html": [
              "\n",
              "  <div id=\"df-1c542d4d-19c0-437b-9bde-7b13fee9a4cb\">\n",
              "    <div class=\"colab-df-container\">\n",
              "      <div>\n",
              "<style scoped>\n",
              "    .dataframe tbody tr th:only-of-type {\n",
              "        vertical-align: middle;\n",
              "    }\n",
              "\n",
              "    .dataframe tbody tr th {\n",
              "        vertical-align: top;\n",
              "    }\n",
              "\n",
              "    .dataframe thead th {\n",
              "        text-align: right;\n",
              "    }\n",
              "</style>\n",
              "<table border=\"1\" class=\"dataframe\">\n",
              "  <thead>\n",
              "    <tr style=\"text-align: right;\">\n",
              "      <th></th>\n",
              "      <th>Date</th>\n",
              "      <th>Open</th>\n",
              "      <th>High</th>\n",
              "      <th>Low</th>\n",
              "      <th>Close</th>\n",
              "      <th>Adj Close</th>\n",
              "      <th>Volume</th>\n",
              "    </tr>\n",
              "  </thead>\n",
              "  <tbody>\n",
              "    <tr>\n",
              "      <th>0</th>\n",
              "      <td>2021-04-15</td>\n",
              "      <td>306.339996</td>\n",
              "      <td>310.140015</td>\n",
              "      <td>304.100006</td>\n",
              "      <td>307.820007</td>\n",
              "      <td>307.820007</td>\n",
              "      <td>14558300</td>\n",
              "    </tr>\n",
              "    <tr>\n",
              "      <th>1</th>\n",
              "      <td>2021-04-16</td>\n",
              "      <td>308.170013</td>\n",
              "      <td>308.950012</td>\n",
              "      <td>304.609985</td>\n",
              "      <td>306.179993</td>\n",
              "      <td>306.179993</td>\n",
              "      <td>13059200</td>\n",
              "    </tr>\n",
              "    <tr>\n",
              "      <th>2</th>\n",
              "      <td>2021-04-19</td>\n",
              "      <td>305.010010</td>\n",
              "      <td>307.700012</td>\n",
              "      <td>300.559998</td>\n",
              "      <td>302.239990</td>\n",
              "      <td>302.239990</td>\n",
              "      <td>14553500</td>\n",
              "    </tr>\n",
              "    <tr>\n",
              "      <th>3</th>\n",
              "      <td>2021-04-20</td>\n",
              "      <td>301.989990</td>\n",
              "      <td>305.100006</td>\n",
              "      <td>297.209991</td>\n",
              "      <td>302.649994</td>\n",
              "      <td>302.649994</td>\n",
              "      <td>16796400</td>\n",
              "    </tr>\n",
              "    <tr>\n",
              "      <th>4</th>\n",
              "      <td>2021-04-21</td>\n",
              "      <td>301.950012</td>\n",
              "      <td>301.980011</td>\n",
              "      <td>297.390015</td>\n",
              "      <td>301.470001</td>\n",
              "      <td>301.470001</td>\n",
              "      <td>14863500</td>\n",
              "    </tr>\n",
              "  </tbody>\n",
              "</table>\n",
              "</div>\n",
              "      <button class=\"colab-df-convert\" onclick=\"convertToInteractive('df-1c542d4d-19c0-437b-9bde-7b13fee9a4cb')\"\n",
              "              title=\"Convert this dataframe to an interactive table.\"\n",
              "              style=\"display:none;\">\n",
              "        \n",
              "  <svg xmlns=\"http://www.w3.org/2000/svg\" height=\"24px\"viewBox=\"0 0 24 24\"\n",
              "       width=\"24px\">\n",
              "    <path d=\"M0 0h24v24H0V0z\" fill=\"none\"/>\n",
              "    <path d=\"M18.56 5.44l.94 2.06.94-2.06 2.06-.94-2.06-.94-.94-2.06-.94 2.06-2.06.94zm-11 1L8.5 8.5l.94-2.06 2.06-.94-2.06-.94L8.5 2.5l-.94 2.06-2.06.94zm10 10l.94 2.06.94-2.06 2.06-.94-2.06-.94-.94-2.06-.94 2.06-2.06.94z\"/><path d=\"M17.41 7.96l-1.37-1.37c-.4-.4-.92-.59-1.43-.59-.52 0-1.04.2-1.43.59L10.3 9.45l-7.72 7.72c-.78.78-.78 2.05 0 2.83L4 21.41c.39.39.9.59 1.41.59.51 0 1.02-.2 1.41-.59l7.78-7.78 2.81-2.81c.8-.78.8-2.07 0-2.86zM5.41 20L4 18.59l7.72-7.72 1.47 1.35L5.41 20z\"/>\n",
              "  </svg>\n",
              "      </button>\n",
              "      \n",
              "  <style>\n",
              "    .colab-df-container {\n",
              "      display:flex;\n",
              "      flex-wrap:wrap;\n",
              "      gap: 12px;\n",
              "    }\n",
              "\n",
              "    .colab-df-convert {\n",
              "      background-color: #E8F0FE;\n",
              "      border: none;\n",
              "      border-radius: 50%;\n",
              "      cursor: pointer;\n",
              "      display: none;\n",
              "      fill: #1967D2;\n",
              "      height: 32px;\n",
              "      padding: 0 0 0 0;\n",
              "      width: 32px;\n",
              "    }\n",
              "\n",
              "    .colab-df-convert:hover {\n",
              "      background-color: #E2EBFA;\n",
              "      box-shadow: 0px 1px 2px rgba(60, 64, 67, 0.3), 0px 1px 3px 1px rgba(60, 64, 67, 0.15);\n",
              "      fill: #174EA6;\n",
              "    }\n",
              "\n",
              "    [theme=dark] .colab-df-convert {\n",
              "      background-color: #3B4455;\n",
              "      fill: #D2E3FC;\n",
              "    }\n",
              "\n",
              "    [theme=dark] .colab-df-convert:hover {\n",
              "      background-color: #434B5C;\n",
              "      box-shadow: 0px 1px 3px 1px rgba(0, 0, 0, 0.15);\n",
              "      filter: drop-shadow(0px 1px 2px rgba(0, 0, 0, 0.3));\n",
              "      fill: #FFFFFF;\n",
              "    }\n",
              "  </style>\n",
              "\n",
              "      <script>\n",
              "        const buttonEl =\n",
              "          document.querySelector('#df-1c542d4d-19c0-437b-9bde-7b13fee9a4cb button.colab-df-convert');\n",
              "        buttonEl.style.display =\n",
              "          google.colab.kernel.accessAllowed ? 'block' : 'none';\n",
              "\n",
              "        async function convertToInteractive(key) {\n",
              "          const element = document.querySelector('#df-1c542d4d-19c0-437b-9bde-7b13fee9a4cb');\n",
              "          const dataTable =\n",
              "            await google.colab.kernel.invokeFunction('convertToInteractive',\n",
              "                                                     [key], {});\n",
              "          if (!dataTable) return;\n",
              "\n",
              "          const docLinkHtml = 'Like what you see? Visit the ' +\n",
              "            '<a target=\"_blank\" href=https://colab.research.google.com/notebooks/data_table.ipynb>data table notebook</a>'\n",
              "            + ' to learn more about interactive tables.';\n",
              "          element.innerHTML = '';\n",
              "          dataTable['output_type'] = 'display_data';\n",
              "          await google.colab.output.renderOutput(dataTable, element);\n",
              "          const docLink = document.createElement('div');\n",
              "          docLink.innerHTML = docLinkHtml;\n",
              "          element.appendChild(docLink);\n",
              "        }\n",
              "      </script>\n",
              "    </div>\n",
              "  </div>\n",
              "  "
            ]
          },
          "metadata": {},
          "execution_count": 2
        }
      ]
    },
    {
      "cell_type": "markdown",
      "source": [
        "Next we will inspect the datatype of the dataframe using df.info()"
      ],
      "metadata": {
        "id": "pNXygBw33kk_"
      }
    },
    {
      "cell_type": "code",
      "source": [
        "df.info()"
      ],
      "metadata": {
        "id": "QD_83gWg3rkF",
        "colab": {
          "base_uri": "https://localhost:8080/"
        },
        "outputId": "01f5bdcd-1cee-487b-c43a-5aa1e28af176"
      },
      "execution_count": 3,
      "outputs": [
        {
          "output_type": "stream",
          "name": "stdout",
          "text": [
            "<class 'pandas.core.frame.DataFrame'>\n",
            "RangeIndex: 254 entries, 0 to 253\n",
            "Data columns (total 7 columns):\n",
            " #   Column     Non-Null Count  Dtype  \n",
            "---  ------     --------------  -----  \n",
            " 0   Date       254 non-null    object \n",
            " 1   Open       254 non-null    float64\n",
            " 2   High       254 non-null    float64\n",
            " 3   Low        254 non-null    float64\n",
            " 4   Close      254 non-null    float64\n",
            " 5   Adj Close  254 non-null    float64\n",
            " 6   Volume     254 non-null    int64  \n",
            "dtypes: float64(5), int64(1), object(1)\n",
            "memory usage: 14.0+ KB\n"
          ]
        }
      ]
    },
    {
      "cell_type": "markdown",
      "source": [
        "Here, we can see that the ‘Date’ column is displayed as an object instead of datetime datatype. This can be problematic when we are plotting histograms/line chart and so we convert it to a datetime object first"
      ],
      "metadata": {
        "id": "zv7esQIM3uvT"
      }
    },
    {
      "cell_type": "code",
      "source": [
        "df['Date'] = pd.to_datetime(df['Date'])\n",
        "df.info()"
      ],
      "metadata": {
        "id": "zpdz7GFi3yuN",
        "colab": {
          "base_uri": "https://localhost:8080/"
        },
        "outputId": "3be8f7bf-314c-4786-9623-05a7a575936a"
      },
      "execution_count": 4,
      "outputs": [
        {
          "output_type": "stream",
          "name": "stdout",
          "text": [
            "<class 'pandas.core.frame.DataFrame'>\n",
            "RangeIndex: 254 entries, 0 to 253\n",
            "Data columns (total 7 columns):\n",
            " #   Column     Non-Null Count  Dtype         \n",
            "---  ------     --------------  -----         \n",
            " 0   Date       254 non-null    datetime64[ns]\n",
            " 1   Open       254 non-null    float64       \n",
            " 2   High       254 non-null    float64       \n",
            " 3   Low        254 non-null    float64       \n",
            " 4   Close      254 non-null    float64       \n",
            " 5   Adj Close  254 non-null    float64       \n",
            " 6   Volume     254 non-null    int64         \n",
            "dtypes: datetime64[ns](1), float64(5), int64(1)\n",
            "memory usage: 14.0 KB\n"
          ]
        }
      ]
    },
    {
      "cell_type": "code",
      "source": [
        "import matplotlib.pyplot as plt\n",
        "%matplotlib inline"
      ],
      "metadata": {
        "id": "R6K5gyQd37Ih"
      },
      "execution_count": 5,
      "outputs": []
    },
    {
      "cell_type": "code",
      "source": [
        "plt.figure(figsize=(20,8))\n",
        "plt.plot('Date','Close',data=df)\n",
        "plt.xlabel('Date')\n",
        "plt.ylabel('Close Price')\n",
        "plt.xticks(rotation=45)"
      ],
      "metadata": {
        "id": "waHgupIl4B4E",
        "colab": {
          "base_uri": "https://localhost:8080/",
          "height": 629
        },
        "outputId": "0844a300-ef74-456c-87f3-78f76d9f24a6"
      },
      "execution_count": 6,
      "outputs": [
        {
          "output_type": "execute_result",
          "data": {
            "text/plain": [
              "(array([18748., 18809., 18871., 18932., 18993., 19052., 19113.]),\n",
              " [Text(18748.0, 0, '2021-05'),\n",
              "  Text(18809.0, 0, '2021-07'),\n",
              "  Text(18871.0, 0, '2021-09'),\n",
              "  Text(18932.0, 0, '2021-11'),\n",
              "  Text(18993.0, 0, '2022-01'),\n",
              "  Text(19052.0, 0, '2022-03'),\n",
              "  Text(19113.0, 0, '2022-05')])"
            ]
          },
          "metadata": {},
          "execution_count": 6
        },
        {
          "output_type": "display_data",
          "data": {
            "text/plain": [
              "<Figure size 1440x576 with 1 Axes>"
            ],
            "image/png": "[encoded data removed]"
          },
          "metadata": {
            "needs_background": "light"
          }
        }
      ]
    },
    {
      "cell_type": "markdown",
      "source": [
        "If you have been following financial news, you would know that the huge drop in March is due to Facebook Meta\n",
        "\n",
        "\n",
        "[Facebook News](https://www.cnbc.com/2022/02/03/facebooks-232billion-drop-in-value-sets-all-time-record.html)"
      ],
      "metadata": {
        "id": "nvO9aWBL4SS6"
      }
    },
    {
      "cell_type": "markdown",
      "source": [
        "## 3. Creation of columns\n",
        "Now, let us create some useful columns for us to make some interesting inferences about the stock\n",
        "First, we will create the column ‘daily lag’ which is basically just shifting the ‘Close’ price by one day back. (Note: there are often various metrics we can use but i am choosing ‘Close’ for convenience)"
      ],
      "metadata": {
        "id": "puRmpwdQ45M7"
      }
    },
    {
      "cell_type": "code",
      "source": [
        "df['Daily Lag'] = df['Close'].shift(1)\n",
        "df.head()"
      ],
      "metadata": {
        "id": "GsxEeqUC44WH"
      },
      "execution_count": null,
      "outputs": []
    },
    {
      "cell_type": "markdown",
      "source": [
        "The reason for creating the ‘Daily Lag’ is to allow us to create the column ‘Daily Returns’\n",
        "\n",
        "Daily returns tells us the returns that we obtain in a day after the stock price closes (Duh!)\n",
        "\n",
        "\n"
      ],
      "metadata": {
        "id": "eN4qwvly5PYL"
      }
    },
    {
      "cell_type": "markdown",
      "source": [
        "![1.jpg](data:image/jpeg;base64,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)"
      ],
      "metadata": {
        "id": "URqLPoY56LbT"
      }
    },
    {
      "cell_type": "code",
      "source": [
        "df['Daily Returns'] = (df['Daily Lag']/df['Close']) -1\n",
        "df.head()"
      ],
      "metadata": {
        "id": "oSFXGa756WLA"
      },
      "execution_count": null,
      "outputs": []
    },
    {
      "cell_type": "markdown",
      "source": [
        "Now, let us look at the ‘Daily Returns’"
      ],
      "metadata": {
        "id": "xUeduiGL6es8"
      }
    },
    {
      "cell_type": "code",
      "source": [
        "df['Daily Returns'].hist()"
      ],
      "metadata": {
        "id": "n0gJvXXt6fjO"
      },
      "execution_count": null,
      "outputs": []
    },
    {
      "cell_type": "code",
      "source": [
        "mean = df['Daily Returns'].mean()\n",
        "std = df['Daily Returns'].std()\n",
        "print('mean =',mean)\n",
        "print('Std deviation =',std)"
      ],
      "metadata": {
        "id": "zbUEsYc66nsi"
      },
      "execution_count": null,
      "outputs": []
    },
    {
      "cell_type": "markdown",
      "source": [
        "Ouch,generally returns are negative but remember that this only considers the returns on a day-to-day basis and so it just tells you that in general the return if you buy and sell on the same day, you will make a loss."
      ],
      "metadata": {
        "id": "L79kTJV-6zOt"
      }
    },
    {
      "cell_type": "code",
      "source": [
        "df['Daily Returns'].hist(bins=20)\n",
        "plt.axvline(mean,color='red',linestyle='dashed',linewidth=2)\n",
        "#to plot the std line we plot both the positive and negative values \n",
        "plt.axvline(std,color='g',linestyle='dashed',linewidth=2)\n",
        "plt.axvline(-std,color='g',linestyle='dashed',linewidth=2)"
      ],
      "metadata": {
        "id": "Obv2Pldb62Sy"
      },
      "execution_count": null,
      "outputs": []
    },
    {
      "cell_type": "markdown",
      "source": [
        "Lastly, We  will introduce kurtosis value to you.\n",
        "\n",
        "Kurtosis tells you the ‘fatness’ of the tail and it is important because it tells you how ‘extreme’ can the values get."
      ],
      "metadata": {
        "id": "8GsGb4fB7Awv"
      }
    },
    {
      "cell_type": "markdown",
      "source": [
        "![1.jpg](data:image/jpeg;base64,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)"
      ],
      "metadata": {
        "id": "SSp_Bj4a7J91"
      }
    },
    {
      "cell_type": "code",
      "source": [
        "df['Daily Returns'].kurtosis()"
      ],
      "metadata": {
        "id": "iKlw-xHU7QGq"
      },
      "execution_count": null,
      "outputs": []
    },
    {
      "cell_type": "markdown",
      "source": [
        "In our case, the value is positive, so this indicates that the chance of ‘extreme’ values are rare. "
      ],
      "metadata": {
        "id": "L20qJh7Z7rFO"
      }
    }
  ],
  "metadata": {
    "kernelspec": {
      "display_name": "Python 3",
      "language": "python",
      "name": "python3"
    },
    "language_info": {
      "codemirror_mode": {
        "name": "ipython",
        "version": 3
      },
      "file_extension": ".py",
      "mimetype": "text/x-python",
      "name": "python",
      "nbconvert_exporter": "python",
      "pygments_lexer": "ipython3",
      "version": "3.7.7"
    },
    "colab": {
      "provenance": []
    }
  },
  "nbformat": 4,
  "nbformat_minor": 0
}