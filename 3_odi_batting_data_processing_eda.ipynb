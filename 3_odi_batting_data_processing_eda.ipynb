{
  "metadata": {
    "kernelspec": {
      "language": "python",
      "display_name": "Python 3",
      "name": "python3"
    },
    "language_info": {
      "pygments_lexer": "ipython3",
      "nbconvert_exporter": "python",
      "version": "3.6.4",
      "file_extension": ".py",
      "codemirror_mode": {
        "name": "ipython",
        "version": 3
      },
      "name": "python",
      "mimetype": "text/x-python"
    },
    "colab": {
      "provenance": []
    }
  },
  "nbformat_minor": 0,
  "nbformat": 4,
  "cells": [
    {
      "cell_type": "code",
      "source": [
        "import pandas as pd\n",
        "import numpy as np\n",
        "import seaborn as sns\n",
        "import matplotlib.pyplot as plt\n",
        "import warnings\n",
        "warnings.filterwarnings('ignore')"
      ],
      "metadata": {
        "execution": {
          "iopub.status.busy": "2023-01-21T23:07:38.183332Z",
          "iopub.execute_input": "2023-01-21T23:07:38.184015Z",
          "iopub.status.idle": "2023-01-21T23:07:38.188815Z",
          "shell.execute_reply.started": "2023-01-21T23:07:38.183971Z",
          "shell.execute_reply": "2023-01-21T23:07:38.187859Z"
        },
        "trusted": true,
        "id": "TpZCR9_oSeDD"
      },
      "execution_count": 2,
      "outputs": []
    },
    {
      "cell_type": "code",
      "source": [
        "odi = pd.read_csv('https://raw.githubusercontent.com/Indupuvi/Chakradbi/main/ODI%20data.csv')"
      ],
      "metadata": {
        "execution": {
          "iopub.status.busy": "2023-01-21T23:07:38.189971Z",
          "iopub.execute_input": "2023-01-21T23:07:38.19024Z",
          "iopub.status.idle": "2023-01-21T23:07:38.213943Z",
          "shell.execute_reply.started": "2023-01-21T23:07:38.190209Z",
          "shell.execute_reply": "2023-01-21T23:07:38.213111Z"
        },
        "trusted": true,
        "id": "Cbq4Ww6qSeDD"
      },
      "execution_count": 3,
      "outputs": []
    },
    {
      "cell_type": "markdown",
      "source": [
        "# Exploratory Data Analysis"
      ],
      "metadata": {
        "id": "Px8nvzqWSeDE"
      }
    },
    {
      "cell_type": "code",
      "source": [
        "#Number of rows and Cols\n",
        "odi.shape"
      ],
      "metadata": {
        "execution": {
          "iopub.status.busy": "2023-01-21T23:07:38.217585Z",
          "iopub.execute_input": "2023-01-21T23:07:38.218243Z",
          "iopub.status.idle": "2023-01-21T23:07:38.224078Z",
          "shell.execute_reply.started": "2023-01-21T23:07:38.218193Z",
          "shell.execute_reply": "2023-01-21T23:07:38.223328Z"
        },
        "trusted": true,
        "id": "WLXTIKexSeDE",
        "colab": {
          "base_uri": "https://localhost:8080/"
        },
        "outputId": "95ecaa45-805a-4b27-956e-d4b2eff8bd5b"
      },
      "execution_count": 4,
      "outputs": [
        {
          "output_type": "execute_result",
          "data": {
            "text/plain": [
              "(2500, 15)"
            ]
          },
          "metadata": {},
          "execution_count": 4
        }
      ]
    },
    {
      "cell_type": "code",
      "source": [
        "odi.head(20)"
      ],
      "metadata": {
        "execution": {
          "iopub.status.busy": "2023-01-21T23:07:38.302189Z",
          "iopub.execute_input": "2023-01-21T23:07:38.302473Z",
          "iopub.status.idle": "2023-01-21T23:07:38.329542Z",
          "shell.execute_reply.started": "2023-01-21T23:07:38.302442Z",
          "shell.execute_reply": "2023-01-21T23:07:38.328832Z"
        },
        "trusted": true,
        "id": "K3eLRWOMSeDF",
        "colab": {
          "base_uri": "https://localhost:8080/",
          "height": 676
        },
        "outputId": "abf87f08-af6e-488f-dad6-66080c9b4f8d"
      },
      "execution_count": 5,
      "outputs": [
        {
          "output_type": "execute_result",
          "data": {
            "text/plain": [
              "    Unnamed: 0                       Player       Span  Mat Inns  NO   Runs  \\\n",
              "0            0         SR Tendulkar (INDIA)  1989-2012  463  452  41  18426   \n",
              "1            1  KC Sangakkara (Asia/ICC/SL)  2000-2015  404  380  41  14234   \n",
              "2            2         RT Ponting (AUS/ICC)  1995-2012  375  365  39  13704   \n",
              "3            3      ST Jayasuriya (Asia/SL)  1989-2011  445  433  18  13430   \n",
              "4            4   DPMD Jayawardene (Asia/SL)  1998-2015  448  418  39  12650   \n",
              "5            5    Inzamam-ul-Haq (Asia/PAK)  1991-2007  378  350  53  11739   \n",
              "6            6              V Kohli (INDIA)  2008-2019  242  233  39  11609   \n",
              "7            7       JH Kallis (Afr/ICC/SA)  1996-2014  328  314  53  11579   \n",
              "8            8      SC Ganguly (Asia/INDIA)  1992-2007  311  300  23  11363   \n",
              "9            9    R Dravid (Asia/ICC/INDIA)  1996-2011  344  318  40  10889   \n",
              "10          10        MS Dhoni (Asia/INDIA)  2004-2019  350  297  84  10773   \n",
              "11          11            CH Gayle (ICC/WI)  1999-2019  301  294  17  10480   \n",
              "12          12             BC Lara (ICC/WI)  1990-2007  299  289  32  10405   \n",
              "13          13              TM Dilshan (SL)  1999-2016  330  303  41  10290   \n",
              "14          14   Mohammad Yousuf (Asia/PAK)  1998-2010  288  273  40   9720   \n",
              "15          15       AC Gilchrist (AUS/ICC)  1996-2008  287  279  11   9619   \n",
              "16          16      AB de Villiers (Afr/SA)  2005-2018  228  218  39   9577   \n",
              "17          17         M Azharuddin (INDIA)  1985-2000  334  308  54   9378   \n",
              "18          18             PA de Silva (SL)  1984-2003  308  296  30   9284   \n",
              "19          19            RG Sharma (INDIA)  2007-2019  221  214  32   8944   \n",
              "\n",
              "      HS    Ave     BF      SR 100  50   0  Unnamed: 13  \n",
              "0   200*  44.83  21367   86.23  49  96  20          NaN  \n",
              "1    169  41.98  18048   78.86  25  93  15          NaN  \n",
              "2    164  42.03  17046   80.39  30  82  20          NaN  \n",
              "3    189  32.36  14725    91.2  28  68  34          NaN  \n",
              "4    144  33.37  16020   78.96  19  77  28          NaN  \n",
              "5   137*  39.52  15812   74.24  10  83  20          NaN  \n",
              "6    183  59.84  12445   93.28  43  55  13          NaN  \n",
              "7    139  44.36  15885   72.89  17  86  17          NaN  \n",
              "8    183  41.02  15416    73.7  22  72  16          NaN  \n",
              "9    153  39.16  15284   71.24  12  83  13          NaN  \n",
              "10  183*  50.57  12303   87.56  10  73  10          NaN  \n",
              "11   215  37.83  12019   87.19  25  54  25          NaN  \n",
              "12   169  40.48  13086   79.51  19  63  16          NaN  \n",
              "13  161*  39.27  11933   86.23  22  47  11          NaN  \n",
              "14  141*  41.71  12942    75.1  15  64  15          NaN  \n",
              "15   172  35.89   9922   96.94  16  55  19          NaN  \n",
              "16   176   53.5   9473  101.09  25  53   7          NaN  \n",
              "17  153*  36.92  12669   74.02   7  58   9          NaN  \n",
              "18   145   34.9  11443   81.13  11  64  17          NaN  \n",
              "19   264  49.14  10063   88.88  28  43  13          NaN  "
            ],
            "text/html": [
              "\n",
              "  <div id=\"df-1d8e36b4-a387-454d-b6f7-a5c186b1fb6a\">\n",
              "    <div class=\"colab-df-container\">\n",
              "      <div>\n",
              "<style scoped>\n",
              "    .dataframe tbody tr th:only-of-type {\n",
              "        vertical-align: middle;\n",
              "    }\n",
              "\n",
              "    .dataframe tbody tr th {\n",
              "        vertical-align: top;\n",
              "    }\n",
              "\n",
              "    .dataframe thead th {\n",
              "        text-align: right;\n",
              "    }\n",
              "</style>\n",
              "<table border=\"1\" class=\"dataframe\">\n",
              "  <thead>\n",
              "    <tr style=\"text-align: right;\">\n",
              "      <th></th>\n",
              "      <th>Unnamed: 0</th>\n",
              "      <th>Player</th>\n",
              "      <th>Span</th>\n",
              "      <th>Mat</th>\n",
              "      <th>Inns</th>\n",
              "      <th>NO</th>\n",
              "      <th>Runs</th>\n",
              "      <th>HS</th>\n",
              "      <th>Ave</th>\n",
              "      <th>BF</th>\n",
              "      <th>SR</th>\n",
              "      <th>100</th>\n",
              "      <th>50</th>\n",
              "      <th>0</th>\n",
              "      <th>Unnamed: 13</th>\n",
              "    </tr>\n",
              "  </thead>\n",
              "  <tbody>\n",
              "    <tr>\n",
              "      <th>0</th>\n",
              "      <td>0</td>\n",
              "      <td>SR Tendulkar (INDIA)</td>\n",
              "      <td>1989-2012</td>\n",
              "      <td>463</td>\n",
              "      <td>452</td>\n",
              "      <td>41</td>\n",
              "      <td>18426</td>\n",
              "      <td>200*</td>\n",
              "      <td>44.83</td>\n",
              "      <td>21367</td>\n",
              "      <td>86.23</td>\n",
              "      <td>49</td>\n",
              "      <td>96</td>\n",
              "      <td>20</td>\n",
              "      <td>NaN</td>\n",
              "    </tr>\n",
              "    <tr>\n",
              "      <th>1</th>\n",
              "      <td>1</td>\n",
              "      <td>KC Sangakkara (Asia/ICC/SL)</td>\n",
              "      <td>2000-2015</td>\n",
              "      <td>404</td>\n",
              "      <td>380</td>\n",
              "      <td>41</td>\n",
              "      <td>14234</td>\n",
              "      <td>169</td>\n",
              "      <td>41.98</td>\n",
              "      <td>18048</td>\n",
              "      <td>78.86</td>\n",
              "      <td>25</td>\n",
              "      <td>93</td>\n",
              "      <td>15</td>\n",
              "      <td>NaN</td>\n",
              "    </tr>\n",
              "    <tr>\n",
              "      <th>2</th>\n",
              "      <td>2</td>\n",
              "      <td>RT Ponting (AUS/ICC)</td>\n",
              "      <td>1995-2012</td>\n",
              "      <td>375</td>\n",
              "      <td>365</td>\n",
              "      <td>39</td>\n",
              "      <td>13704</td>\n",
              "      <td>164</td>\n",
              "      <td>42.03</td>\n",
              "      <td>17046</td>\n",
              "      <td>80.39</td>\n",
              "      <td>30</td>\n",
              "      <td>82</td>\n",
              "      <td>20</td>\n",
              "      <td>NaN</td>\n",
              "    </tr>\n",
              "    <tr>\n",
              "      <th>3</th>\n",
              "      <td>3</td>\n",
              "      <td>ST Jayasuriya (Asia/SL)</td>\n",
              "      <td>1989-2011</td>\n",
              "      <td>445</td>\n",
              "      <td>433</td>\n",
              "      <td>18</td>\n",
              "      <td>13430</td>\n",
              "      <td>189</td>\n",
              "      <td>32.36</td>\n",
              "      <td>14725</td>\n",
              "      <td>91.2</td>\n",
              "      <td>28</td>\n",
              "      <td>68</td>\n",
              "      <td>34</td>\n",
              "      <td>NaN</td>\n",
              "    </tr>\n",
              "    <tr>\n",
              "      <th>4</th>\n",
              "      <td>4</td>\n",
              "      <td>DPMD Jayawardene (Asia/SL)</td>\n",
              "      <td>1998-2015</td>\n",
              "      <td>448</td>\n",
              "      <td>418</td>\n",
              "      <td>39</td>\n",
              "      <td>12650</td>\n",
              "      <td>144</td>\n",
              "      <td>33.37</td>\n",
              "      <td>16020</td>\n",
              "      <td>78.96</td>\n",
              "      <td>19</td>\n",
              "      <td>77</td>\n",
              "      <td>28</td>\n",
              "      <td>NaN</td>\n",
              "    </tr>\n",
              "    <tr>\n",
              "      <th>5</th>\n",
              "      <td>5</td>\n",
              "      <td>Inzamam-ul-Haq (Asia/PAK)</td>\n",
              "      <td>1991-2007</td>\n",
              "      <td>378</td>\n",
              "      <td>350</td>\n",
              "      <td>53</td>\n",
              "      <td>11739</td>\n",
              "      <td>137*</td>\n",
              "      <td>39.52</td>\n",
              "      <td>15812</td>\n",
              "      <td>74.24</td>\n",
              "      <td>10</td>\n",
              "      <td>83</td>\n",
              "      <td>20</td>\n",
              "      <td>NaN</td>\n",
              "    </tr>\n",
              "    <tr>\n",
              "      <th>6</th>\n",
              "      <td>6</td>\n",
              "      <td>V Kohli (INDIA)</td>\n",
              "      <td>2008-2019</td>\n",
              "      <td>242</td>\n",
              "      <td>233</td>\n",
              "      <td>39</td>\n",
              "      <td>11609</td>\n",
              "      <td>183</td>\n",
              "      <td>59.84</td>\n",
              "      <td>12445</td>\n",
              "      <td>93.28</td>\n",
              "      <td>43</td>\n",
              "      <td>55</td>\n",
              "      <td>13</td>\n",
              "      <td>NaN</td>\n",
              "    </tr>\n",
              "    <tr>\n",
              "      <th>7</th>\n",
              "      <td>7</td>\n",
              "      <td>JH Kallis (Afr/ICC/SA)</td>\n",
              "      <td>1996-2014</td>\n",
              "      <td>328</td>\n",
              "      <td>314</td>\n",
              "      <td>53</td>\n",
              "      <td>11579</td>\n",
              "      <td>139</td>\n",
              "      <td>44.36</td>\n",
              "      <td>15885</td>\n",
              "      <td>72.89</td>\n",
              "      <td>17</td>\n",
              "      <td>86</td>\n",
              "      <td>17</td>\n",
              "      <td>NaN</td>\n",
              "    </tr>\n",
              "    <tr>\n",
              "      <th>8</th>\n",
              "      <td>8</td>\n",
              "      <td>SC Ganguly (Asia/INDIA)</td>\n",
              "      <td>1992-2007</td>\n",
              "      <td>311</td>\n",
              "      <td>300</td>\n",
              "      <td>23</td>\n",
              "      <td>11363</td>\n",
              "      <td>183</td>\n",
              "      <td>41.02</td>\n",
              "      <td>15416</td>\n",
              "      <td>73.7</td>\n",
              "      <td>22</td>\n",
              "      <td>72</td>\n",
              "      <td>16</td>\n",
              "      <td>NaN</td>\n",
              "    </tr>\n",
              "    <tr>\n",
              "      <th>9</th>\n",
              "      <td>9</td>\n",
              "      <td>R Dravid (Asia/ICC/INDIA)</td>\n",
              "      <td>1996-2011</td>\n",
              "      <td>344</td>\n",
              "      <td>318</td>\n",
              "      <td>40</td>\n",
              "      <td>10889</td>\n",
              "      <td>153</td>\n",
              "      <td>39.16</td>\n",
              "      <td>15284</td>\n",
              "      <td>71.24</td>\n",
              "      <td>12</td>\n",
              "      <td>83</td>\n",
              "      <td>13</td>\n",
              "      <td>NaN</td>\n",
              "    </tr>\n",
              "    <tr>\n",
              "      <th>10</th>\n",
              "      <td>10</td>\n",
              "      <td>MS Dhoni (Asia/INDIA)</td>\n",
              "      <td>2004-2019</td>\n",
              "      <td>350</td>\n",
              "      <td>297</td>\n",
              "      <td>84</td>\n",
              "      <td>10773</td>\n",
              "      <td>183*</td>\n",
              "      <td>50.57</td>\n",
              "      <td>12303</td>\n",
              "      <td>87.56</td>\n",
              "      <td>10</td>\n",
              "      <td>73</td>\n",
              "      <td>10</td>\n",
              "      <td>NaN</td>\n",
              "    </tr>\n",
              "    <tr>\n",
              "      <th>11</th>\n",
              "      <td>11</td>\n",
              "      <td>CH Gayle (ICC/WI)</td>\n",
              "      <td>1999-2019</td>\n",
              "      <td>301</td>\n",
              "      <td>294</td>\n",
              "      <td>17</td>\n",
              "      <td>10480</td>\n",
              "      <td>215</td>\n",
              "      <td>37.83</td>\n",
              "      <td>12019</td>\n",
              "      <td>87.19</td>\n",
              "      <td>25</td>\n",
              "      <td>54</td>\n",
              "      <td>25</td>\n",
              "      <td>NaN</td>\n",
              "    </tr>\n",
              "    <tr>\n",
              "      <th>12</th>\n",
              "      <td>12</td>\n",
              "      <td>BC Lara (ICC/WI)</td>\n",
              "      <td>1990-2007</td>\n",
              "      <td>299</td>\n",
              "      <td>289</td>\n",
              "      <td>32</td>\n",
              "      <td>10405</td>\n",
              "      <td>169</td>\n",
              "      <td>40.48</td>\n",
              "      <td>13086</td>\n",
              "      <td>79.51</td>\n",
              "      <td>19</td>\n",
              "      <td>63</td>\n",
              "      <td>16</td>\n",
              "      <td>NaN</td>\n",
              "    </tr>\n",
              "    <tr>\n",
              "      <th>13</th>\n",
              "      <td>13</td>\n",
              "      <td>TM Dilshan (SL)</td>\n",
              "      <td>1999-2016</td>\n",
              "      <td>330</td>\n",
              "      <td>303</td>\n",
              "      <td>41</td>\n",
              "      <td>10290</td>\n",
              "      <td>161*</td>\n",
              "      <td>39.27</td>\n",
              "      <td>11933</td>\n",
              "      <td>86.23</td>\n",
              "      <td>22</td>\n",
              "      <td>47</td>\n",
              "      <td>11</td>\n",
              "      <td>NaN</td>\n",
              "    </tr>\n",
              "    <tr>\n",
              "      <th>14</th>\n",
              "      <td>14</td>\n",
              "      <td>Mohammad Yousuf (Asia/PAK)</td>\n",
              "      <td>1998-2010</td>\n",
              "      <td>288</td>\n",
              "      <td>273</td>\n",
              "      <td>40</td>\n",
              "      <td>9720</td>\n",
              "      <td>141*</td>\n",
              "      <td>41.71</td>\n",
              "      <td>12942</td>\n",
              "      <td>75.1</td>\n",
              "      <td>15</td>\n",
              "      <td>64</td>\n",
              "      <td>15</td>\n",
              "      <td>NaN</td>\n",
              "    </tr>\n",
              "    <tr>\n",
              "      <th>15</th>\n",
              "      <td>15</td>\n",
              "      <td>AC Gilchrist (AUS/ICC)</td>\n",
              "      <td>1996-2008</td>\n",
              "      <td>287</td>\n",
              "      <td>279</td>\n",
              "      <td>11</td>\n",
              "      <td>9619</td>\n",
              "      <td>172</td>\n",
              "      <td>35.89</td>\n",
              "      <td>9922</td>\n",
              "      <td>96.94</td>\n",
              "      <td>16</td>\n",
              "      <td>55</td>\n",
              "      <td>19</td>\n",
              "      <td>NaN</td>\n",
              "    </tr>\n",
              "    <tr>\n",
              "      <th>16</th>\n",
              "      <td>16</td>\n",
              "      <td>AB de Villiers (Afr/SA)</td>\n",
              "      <td>2005-2018</td>\n",
              "      <td>228</td>\n",
              "      <td>218</td>\n",
              "      <td>39</td>\n",
              "      <td>9577</td>\n",
              "      <td>176</td>\n",
              "      <td>53.5</td>\n",
              "      <td>9473</td>\n",
              "      <td>101.09</td>\n",
              "      <td>25</td>\n",
              "      <td>53</td>\n",
              "      <td>7</td>\n",
              "      <td>NaN</td>\n",
              "    </tr>\n",
              "    <tr>\n",
              "      <th>17</th>\n",
              "      <td>17</td>\n",
              "      <td>M Azharuddin (INDIA)</td>\n",
              "      <td>1985-2000</td>\n",
              "      <td>334</td>\n",
              "      <td>308</td>\n",
              "      <td>54</td>\n",
              "      <td>9378</td>\n",
              "      <td>153*</td>\n",
              "      <td>36.92</td>\n",
              "      <td>12669</td>\n",
              "      <td>74.02</td>\n",
              "      <td>7</td>\n",
              "      <td>58</td>\n",
              "      <td>9</td>\n",
              "      <td>NaN</td>\n",
              "    </tr>\n",
              "    <tr>\n",
              "      <th>18</th>\n",
              "      <td>18</td>\n",
              "      <td>PA de Silva (SL)</td>\n",
              "      <td>1984-2003</td>\n",
              "      <td>308</td>\n",
              "      <td>296</td>\n",
              "      <td>30</td>\n",
              "      <td>9284</td>\n",
              "      <td>145</td>\n",
              "      <td>34.9</td>\n",
              "      <td>11443</td>\n",
              "      <td>81.13</td>\n",
              "      <td>11</td>\n",
              "      <td>64</td>\n",
              "      <td>17</td>\n",
              "      <td>NaN</td>\n",
              "    </tr>\n",
              "    <tr>\n",
              "      <th>19</th>\n",
              "      <td>19</td>\n",
              "      <td>RG Sharma (INDIA)</td>\n",
              "      <td>2007-2019</td>\n",
              "      <td>221</td>\n",
              "      <td>214</td>\n",
              "      <td>32</td>\n",
              "      <td>8944</td>\n",
              "      <td>264</td>\n",
              "      <td>49.14</td>\n",
              "      <td>10063</td>\n",
              "      <td>88.88</td>\n",
              "      <td>28</td>\n",
              "      <td>43</td>\n",
              "      <td>13</td>\n",
              "      <td>NaN</td>\n",
              "    </tr>\n",
              "  </tbody>\n",
              "</table>\n",
              "</div>\n",
              "      <button class=\"colab-df-convert\" onclick=\"convertToInteractive('df-1d8e36b4-a387-454d-b6f7-a5c186b1fb6a')\"\n",
              "              title=\"Convert this dataframe to an interactive table.\"\n",
              "              style=\"display:none;\">\n",
              "        \n",
              "  <svg xmlns=\"http://www.w3.org/2000/svg\" height=\"24px\"viewBox=\"0 0 24 24\"\n",
              "       width=\"24px\">\n",
              "    <path d=\"M0 0h24v24H0V0z\" fill=\"none\"/>\n",
              "    <path d=\"M18.56 5.44l.94 2.06.94-2.06 2.06-.94-2.06-.94-.94-2.06-.94 2.06-2.06.94zm-11 1L8.5 8.5l.94-2.06 2.06-.94-2.06-.94L8.5 2.5l-.94 2.06-2.06.94zm10 10l.94 2.06.94-2.06 2.06-.94-2.06-.94-.94-2.06-.94 2.06-2.06.94z\"/><path d=\"M17.41 7.96l-1.37-1.37c-.4-.4-.92-.59-1.43-.59-.52 0-1.04.2-1.43.59L10.3 9.45l-7.72 7.72c-.78.78-.78 2.05 0 2.83L4 21.41c.39.39.9.59 1.41.59.51 0 1.02-.2 1.41-.59l7.78-7.78 2.81-2.81c.8-.78.8-2.07 0-2.86zM5.41 20L4 18.59l7.72-7.72 1.47 1.35L5.41 20z\"/>\n",
              "  </svg>\n",
              "      </button>\n",
              "      \n",
              "  <style>\n",
              "    .colab-df-container {\n",
              "      display:flex;\n",
              "      flex-wrap:wrap;\n",
              "      gap: 12px;\n",
              "    }\n",
              "\n",
              "    .colab-df-convert {\n",
              "      background-color: #E8F0FE;\n",
              "      border: none;\n",
              "      border-radius: 50%;\n",
              "      cursor: pointer;\n",
              "      display: none;\n",
              "      fill: #1967D2;\n",
              "      height: 32px;\n",
              "      padding: 0 0 0 0;\n",
              "      width: 32px;\n",
              "    }\n",
              "\n",
              "    .colab-df-convert:hover {\n",
              "      background-color: #E2EBFA;\n",
              "      box-shadow: 0px 1px 2px rgba(60, 64, 67, 0.3), 0px 1px 3px 1px rgba(60, 64, 67, 0.15);\n",
              "      fill: #174EA6;\n",
              "    }\n",
              "\n",
              "    [theme=dark] .colab-df-convert {\n",
              "      background-color: #3B4455;\n",
              "      fill: #D2E3FC;\n",
              "    }\n",
              "\n",
              "    [theme=dark] .colab-df-convert:hover {\n",
              "      background-color: #434B5C;\n",
              "      box-shadow: 0px 1px 3px 1px rgba(0, 0, 0, 0.15);\n",
              "      filter: drop-shadow(0px 1px 2px rgba(0, 0, 0, 0.3));\n",
              "      fill: #FFFFFF;\n",
              "    }\n",
              "  </style>\n",
              "\n",
              "      <script>\n",
              "        const buttonEl =\n",
              "          document.querySelector('#df-1d8e36b4-a387-454d-b6f7-a5c186b1fb6a button.colab-df-convert');\n",
              "        buttonEl.style.display =\n",
              "          google.colab.kernel.accessAllowed ? 'block' : 'none';\n",
              "\n",
              "        async function convertToInteractive(key) {\n",
              "          const element = document.querySelector('#df-1d8e36b4-a387-454d-b6f7-a5c186b1fb6a');\n",
              "          const dataTable =\n",
              "            await google.colab.kernel.invokeFunction('convertToInteractive',\n",
              "                                                     [key], {});\n",
              "          if (!dataTable) return;\n",
              "\n",
              "          const docLinkHtml = 'Like what you see? Visit the ' +\n",
              "            '<a target=\"_blank\" href=https://colab.research.google.com/notebooks/data_table.ipynb>data table notebook</a>'\n",
              "            + ' to learn more about interactive tables.';\n",
              "          element.innerHTML = '';\n",
              "          dataTable['output_type'] = 'display_data';\n",
              "          await google.colab.output.renderOutput(dataTable, element);\n",
              "          const docLink = document.createElement('div');\n",
              "          docLink.innerHTML = docLinkHtml;\n",
              "          element.appendChild(docLink);\n",
              "        }\n",
              "      </script>\n",
              "    </div>\n",
              "  </div>\n",
              "  "
            ]
          },
          "metadata": {},
          "execution_count": 5
        }
      ]
    },
    {
      "cell_type": "code",
      "source": [
        "#data types check\n",
        "odi.info()"
      ],
      "metadata": {
        "execution": {
          "iopub.status.busy": "2023-01-21T23:07:38.33122Z",
          "iopub.execute_input": "2023-01-21T23:07:38.33201Z",
          "iopub.status.idle": "2023-01-21T23:07:38.347368Z",
          "shell.execute_reply.started": "2023-01-21T23:07:38.331973Z",
          "shell.execute_reply": "2023-01-21T23:07:38.34648Z"
        },
        "trusted": true,
        "id": "Dfeycq2ESeDF"
      },
      "execution_count": null,
      "outputs": []
    },
    {
      "cell_type": "code",
      "source": [
        "#summary check\n",
        "odi.describe()"
      ],
      "metadata": {
        "execution": {
          "iopub.status.busy": "2023-01-21T23:07:38.348833Z",
          "iopub.execute_input": "2023-01-21T23:07:38.349162Z",
          "iopub.status.idle": "2023-01-21T23:07:38.376183Z",
          "shell.execute_reply.started": "2023-01-21T23:07:38.349099Z",
          "shell.execute_reply": "2023-01-21T23:07:38.375478Z"
        },
        "trusted": true,
        "id": "6S2WdkVqSeDF"
      },
      "execution_count": null,
      "outputs": []
    },
    {
      "cell_type": "code",
      "source": [
        "#check for null values\n",
        "odi.columns[odi.isnull().any()], odi.isnull().sum()"
      ],
      "metadata": {
        "execution": {
          "iopub.status.busy": "2023-01-21T23:07:38.377332Z",
          "iopub.execute_input": "2023-01-21T23:07:38.378104Z",
          "iopub.status.idle": "2023-01-21T23:07:38.389453Z",
          "shell.execute_reply.started": "2023-01-21T23:07:38.378065Z",
          "shell.execute_reply": "2023-01-21T23:07:38.388798Z"
        },
        "trusted": true,
        "id": "2Gvt8WgzSeDF"
      },
      "execution_count": null,
      "outputs": []
    },
    {
      "cell_type": "code",
      "source": [
        "#delete unnamed: 0 column\n",
        "odi = odi.drop(['Unnamed: 0', 'Unnamed: 13'], axis=1)\n",
        "odi.head()"
      ],
      "metadata": {
        "execution": {
          "iopub.status.busy": "2023-01-21T23:07:38.391102Z",
          "iopub.execute_input": "2023-01-21T23:07:38.39189Z",
          "iopub.status.idle": "2023-01-21T23:07:38.412872Z",
          "shell.execute_reply.started": "2023-01-21T23:07:38.391857Z",
          "shell.execute_reply": "2023-01-21T23:07:38.412199Z"
        },
        "trusted": true,
        "id": "9IfABMoLSeDG"
      },
      "execution_count": null,
      "outputs": []
    },
    {
      "cell_type": "code",
      "source": [
        "#remove ( from column player and split into region column)\n",
        "odi[['Player', 'Region']] = odi['Player'].str.split(\"(\", n=1, expand=True)\n",
        "odi.head()"
      ],
      "metadata": {
        "execution": {
          "iopub.status.busy": "2023-01-21T23:07:38.413995Z",
          "iopub.execute_input": "2023-01-21T23:07:38.414433Z",
          "iopub.status.idle": "2023-01-21T23:07:38.43854Z",
          "shell.execute_reply.started": "2023-01-21T23:07:38.414391Z",
          "shell.execute_reply": "2023-01-21T23:07:38.437728Z"
        },
        "trusted": true,
        "id": "1SN3HnlJSeDG"
      },
      "execution_count": null,
      "outputs": []
    },
    {
      "cell_type": "code",
      "source": [
        "#removing ) from region column\n",
        "odi['Region'] = odi['Region'].map(lambda x: x.rstrip(')'))\n",
        "odi.head(2)"
      ],
      "metadata": {
        "execution": {
          "iopub.status.busy": "2023-01-21T23:07:38.439758Z",
          "iopub.execute_input": "2023-01-21T23:07:38.440045Z",
          "iopub.status.idle": "2023-01-21T23:07:38.463882Z",
          "shell.execute_reply.started": "2023-01-21T23:07:38.440013Z",
          "shell.execute_reply": "2023-01-21T23:07:38.463231Z"
        },
        "trusted": true,
        "id": "DAIwn-5dSeDG"
      },
      "execution_count": null,
      "outputs": []
    },
    {
      "cell_type": "code",
      "source": [
        "#split span column into start and end year\n",
        "odi[['Start', 'End']] = odi['Span'].str.split(\"-\", n=1, expand=True)\n",
        "odi.head(2)"
      ],
      "metadata": {
        "execution": {
          "iopub.status.busy": "2023-01-21T23:07:38.464935Z",
          "iopub.execute_input": "2023-01-21T23:07:38.465945Z",
          "iopub.status.idle": "2023-01-21T23:07:38.491553Z",
          "shell.execute_reply.started": "2023-01-21T23:07:38.46591Z",
          "shell.execute_reply": "2023-01-21T23:07:38.490524Z"
        },
        "trusted": true,
        "id": "U00YmmbySeDG"
      },
      "execution_count": null,
      "outputs": []
    },
    {
      "cell_type": "code",
      "source": [
        "#split region column into region1 and region2\n",
        "odi[['Region1', 'Region']] = odi['Region'].str.split(\"/\", n=1, expand=True)\n",
        "odi.head(2)"
      ],
      "metadata": {
        "execution": {
          "iopub.status.busy": "2023-01-21T23:07:38.492826Z",
          "iopub.execute_input": "2023-01-21T23:07:38.493089Z",
          "iopub.status.idle": "2023-01-21T23:07:38.524508Z",
          "shell.execute_reply.started": "2023-01-21T23:07:38.493058Z",
          "shell.execute_reply": "2023-01-21T23:07:38.523582Z"
        },
        "trusted": true,
        "id": "KrkCnFNsSeDG"
      },
      "execution_count": null,
      "outputs": []
    },
    {
      "cell_type": "code",
      "source": [
        "#split region1 column into region2\n",
        "odi[['Region2', 'Region']] = odi['Region'].str.split(\"/\", n=1, expand=True)\n",
        "odi.head(2)"
      ],
      "metadata": {
        "execution": {
          "iopub.status.busy": "2023-01-21T23:07:38.526062Z",
          "iopub.execute_input": "2023-01-21T23:07:38.526583Z",
          "iopub.status.idle": "2023-01-21T23:07:38.558922Z",
          "shell.execute_reply.started": "2023-01-21T23:07:38.526544Z",
          "shell.execute_reply": "2023-01-21T23:07:38.557869Z"
        },
        "trusted": true,
        "id": "xji6N5_WSeDG"
      },
      "execution_count": null,
      "outputs": []
    },
    {
      "cell_type": "code",
      "source": [
        "#unique values in region1 \n",
        "print(\"Region1 unique values are: \", odi.Region1.unique()) \n",
        "print(\"Region2 unique values are: \", odi.Region2.unique())\n",
        "print(\"Region unique values are: \", odi.Region.unique())"
      ],
      "metadata": {
        "execution": {
          "iopub.status.busy": "2023-01-21T23:07:38.560424Z",
          "iopub.execute_input": "2023-01-21T23:07:38.560722Z",
          "iopub.status.idle": "2023-01-21T23:07:38.571654Z",
          "shell.execute_reply.started": "2023-01-21T23:07:38.560682Z",
          "shell.execute_reply": "2023-01-21T23:07:38.571065Z"
        },
        "trusted": true,
        "id": "8v77P9EQSeDG"
      },
      "execution_count": null,
      "outputs": []
    },
    {
      "cell_type": "code",
      "source": [
        "def new_co(odi):\n",
        "    if odi['Region1'] is not None:\n",
        "        if odi['Region1'].isupper():\n",
        "            if (odi.Region1=='ICC'):\n",
        "                return odi['Region2']\n",
        "            else:\n",
        "                return odi['Region1']\n",
        "                \n",
        "        elif odi['Region'] is not None:\n",
        "            if odi['Region'].isupper():\n",
        "                if odi['Region'] is not \"ICC\":\n",
        "                    return odi['Region']\n",
        "            else:\n",
        "                return odi['Region2']\n",
        "        else:\n",
        "                return odi['Region2']\n",
        "    else:\n",
        "        return \"NA\""
      ],
      "metadata": {
        "execution": {
          "iopub.status.busy": "2023-01-21T23:07:38.57273Z",
          "iopub.execute_input": "2023-01-21T23:07:38.573519Z",
          "iopub.status.idle": "2023-01-21T23:07:38.583931Z",
          "shell.execute_reply.started": "2023-01-21T23:07:38.573485Z",
          "shell.execute_reply": "2023-01-21T23:07:38.583195Z"
        },
        "trusted": true,
        "id": "88TLQmIxSeDH"
      },
      "execution_count": null,
      "outputs": []
    },
    {
      "cell_type": "code",
      "source": [
        "odi['Final Region'] = odi.apply(new_co, axis=1)\n",
        "odi"
      ],
      "metadata": {
        "execution": {
          "iopub.status.busy": "2023-01-21T23:07:38.586453Z",
          "iopub.execute_input": "2023-01-21T23:07:38.587108Z",
          "iopub.status.idle": "2023-01-21T23:07:38.692002Z",
          "shell.execute_reply.started": "2023-01-21T23:07:38.587074Z",
          "shell.execute_reply": "2023-01-21T23:07:38.690973Z"
        },
        "trusted": true,
        "id": "_4UInC91SeDH"
      },
      "execution_count": null,
      "outputs": []
    },
    {
      "cell_type": "code",
      "source": [
        "odi[\"Final Region\"].unique()"
      ],
      "metadata": {
        "execution": {
          "iopub.status.busy": "2023-01-21T23:07:38.693534Z",
          "iopub.execute_input": "2023-01-21T23:07:38.693765Z",
          "iopub.status.idle": "2023-01-21T23:07:38.701453Z",
          "shell.execute_reply.started": "2023-01-21T23:07:38.693737Z",
          "shell.execute_reply": "2023-01-21T23:07:38.700446Z"
        },
        "trusted": true,
        "id": "Uh6jSfqFSeDH"
      },
      "execution_count": null,
      "outputs": []
    },
    {
      "cell_type": "code",
      "source": [
        "#check null values in final region\n",
        "print(odi[\"Final Region\"].isnull().sum())"
      ],
      "metadata": {
        "execution": {
          "iopub.status.busy": "2023-01-21T23:07:38.702931Z",
          "iopub.execute_input": "2023-01-21T23:07:38.703263Z",
          "iopub.status.idle": "2023-01-21T23:07:38.715962Z",
          "shell.execute_reply.started": "2023-01-21T23:07:38.70323Z",
          "shell.execute_reply": "2023-01-21T23:07:38.714907Z"
        },
        "trusted": true,
        "id": "KlW7wjniSeDH"
      },
      "execution_count": null,
      "outputs": []
    },
    {
      "cell_type": "code",
      "source": [
        "#drop region1, region2, region columns\n",
        "odi = odi.drop([\"Region1\", \"Region2\", \"Region\"], axis=1)\n",
        "odi.head()"
      ],
      "metadata": {
        "execution": {
          "iopub.status.busy": "2023-01-21T23:07:38.717371Z",
          "iopub.execute_input": "2023-01-21T23:07:38.717612Z",
          "iopub.status.idle": "2023-01-21T23:07:38.743975Z",
          "shell.execute_reply.started": "2023-01-21T23:07:38.717583Z",
          "shell.execute_reply": "2023-01-21T23:07:38.743344Z"
        },
        "trusted": true,
        "id": "wlOoPr7QSeDH"
      },
      "execution_count": null,
      "outputs": []
    },
    {
      "cell_type": "code",
      "source": [
        "#check unique values in final region\n",
        "odi[\"Final Region\"].unique()"
      ],
      "metadata": {
        "execution": {
          "iopub.status.busy": "2023-01-21T23:07:38.745287Z",
          "iopub.execute_input": "2023-01-21T23:07:38.745512Z",
          "iopub.status.idle": "2023-01-21T23:07:38.753025Z",
          "shell.execute_reply.started": "2023-01-21T23:07:38.745485Z",
          "shell.execute_reply": "2023-01-21T23:07:38.751937Z"
        },
        "trusted": true,
        "id": "wF4ke6fySeDH"
      },
      "execution_count": null,
      "outputs": []
    },
    {
      "cell_type": "code",
      "source": [
        "odi = odi.drop([2148, 949])\n",
        "odi"
      ],
      "metadata": {
        "execution": {
          "iopub.status.busy": "2023-01-21T23:07:38.754425Z",
          "iopub.execute_input": "2023-01-21T23:07:38.754804Z",
          "iopub.status.idle": "2023-01-21T23:07:38.786368Z",
          "shell.execute_reply.started": "2023-01-21T23:07:38.754756Z",
          "shell.execute_reply": "2023-01-21T23:07:38.785534Z"
        },
        "trusted": true,
        "id": "XpW47Ta6SeDH"
      },
      "execution_count": null,
      "outputs": []
    },
    {
      "cell_type": "code",
      "source": [
        "odi[\"Final Region\"].unique()"
      ],
      "metadata": {
        "execution": {
          "iopub.status.busy": "2023-01-21T23:07:38.787618Z",
          "iopub.execute_input": "2023-01-21T23:07:38.787861Z",
          "iopub.status.idle": "2023-01-21T23:07:38.794393Z",
          "shell.execute_reply.started": "2023-01-21T23:07:38.78783Z",
          "shell.execute_reply": "2023-01-21T23:07:38.793543Z"
        },
        "trusted": true,
        "id": "Jhx3jEypSeDH"
      },
      "execution_count": null,
      "outputs": []
    },
    {
      "cell_type": "code",
      "source": [
        "#Rmoving data of East African Region \n",
        "odi=odi[odi['Final Region'].isnull()==False]"
      ],
      "metadata": {
        "execution": {
          "iopub.status.busy": "2023-01-21T23:07:38.795582Z",
          "iopub.execute_input": "2023-01-21T23:07:38.795812Z",
          "iopub.status.idle": "2023-01-21T23:07:38.806896Z",
          "shell.execute_reply.started": "2023-01-21T23:07:38.795784Z",
          "shell.execute_reply": "2023-01-21T23:07:38.80585Z"
        },
        "trusted": true,
        "id": "qi8Hsag1SeDH"
      },
      "execution_count": null,
      "outputs": []
    },
    {
      "cell_type": "code",
      "source": [
        "odi[\"Final Region\"].unique()"
      ],
      "metadata": {
        "execution": {
          "iopub.status.busy": "2023-01-21T23:07:38.808083Z",
          "iopub.execute_input": "2023-01-21T23:07:38.808392Z",
          "iopub.status.idle": "2023-01-21T23:07:38.820579Z",
          "shell.execute_reply.started": "2023-01-21T23:07:38.808342Z",
          "shell.execute_reply": "2023-01-21T23:07:38.819622Z"
        },
        "trusted": true,
        "id": "_5MsnbKfSeDI"
      },
      "execution_count": null,
      "outputs": []
    },
    {
      "cell_type": "code",
      "source": [
        "#check null values in final region\n",
        "\n",
        "odi[odi[\"Final Region\"].isnull()]\n",
        "odi.isna().sum()"
      ],
      "metadata": {
        "execution": {
          "iopub.status.busy": "2023-01-21T23:07:38.821585Z",
          "iopub.execute_input": "2023-01-21T23:07:38.821807Z",
          "iopub.status.idle": "2023-01-21T23:07:38.838705Z",
          "shell.execute_reply.started": "2023-01-21T23:07:38.82178Z",
          "shell.execute_reply": "2023-01-21T23:07:38.838021Z"
        },
        "trusted": true,
        "id": "dbq5V2EvSeDI"
      },
      "execution_count": null,
      "outputs": []
    },
    {
      "cell_type": "code",
      "source": [
        "#removing * from HS column\n",
        "\n",
        "odi[\"HS\"] = odi[\"HS\"].str.replace('*', '')\n",
        "odi.tail(50)"
      ],
      "metadata": {
        "execution": {
          "iopub.status.busy": "2023-01-21T23:07:38.839603Z",
          "iopub.execute_input": "2023-01-21T23:07:38.839887Z",
          "iopub.status.idle": "2023-01-21T23:07:38.88647Z",
          "shell.execute_reply.started": "2023-01-21T23:07:38.839794Z",
          "shell.execute_reply": "2023-01-21T23:07:38.8853Z"
        },
        "trusted": true,
        "id": "C9cm-pDKSeDI"
      },
      "execution_count": null,
      "outputs": []
    },
    {
      "cell_type": "code",
      "source": [
        "#replacing - with 0 in odi data\n",
        "\n",
        "odi.replace('-', 0, inplace=True)\n",
        "odi.tail(20)"
      ],
      "metadata": {
        "execution": {
          "iopub.status.busy": "2023-01-21T23:07:38.887804Z",
          "iopub.execute_input": "2023-01-21T23:07:38.888117Z",
          "iopub.status.idle": "2023-01-21T23:07:38.925303Z",
          "shell.execute_reply.started": "2023-01-21T23:07:38.888076Z",
          "shell.execute_reply": "2023-01-21T23:07:38.924352Z"
        },
        "trusted": true,
        "id": "9KRhhB_HSeDI"
      },
      "execution_count": null,
      "outputs": []
    },
    {
      "cell_type": "code",
      "source": [
        "#check datatypes of Runs, Ave, HS, and SR\n",
        "odi.info()"
      ],
      "metadata": {
        "execution": {
          "iopub.status.busy": "2023-01-21T23:07:38.926606Z",
          "iopub.execute_input": "2023-01-21T23:07:38.926855Z",
          "iopub.status.idle": "2023-01-21T23:07:38.948103Z",
          "shell.execute_reply.started": "2023-01-21T23:07:38.926824Z",
          "shell.execute_reply": "2023-01-21T23:07:38.946984Z"
        },
        "trusted": true,
        "id": "8wvV1vLESeDI"
      },
      "execution_count": null,
      "outputs": []
    },
    {
      "cell_type": "code",
      "source": [
        "#Change datatype of Runs, Ave, HS, and SR to floats\n",
        "odi[['Runs', 'Ave', 'HS', 'SR']] = odi[['Runs', 'Ave', 'HS', 'SR']].astype('float')"
      ],
      "metadata": {
        "execution": {
          "iopub.status.busy": "2023-01-21T23:07:38.949536Z",
          "iopub.execute_input": "2023-01-21T23:07:38.949786Z",
          "iopub.status.idle": "2023-01-21T23:07:38.96159Z",
          "shell.execute_reply.started": "2023-01-21T23:07:38.949755Z",
          "shell.execute_reply": "2023-01-21T23:07:38.960452Z"
        },
        "trusted": true,
        "id": "7wvOpzs7SeDI"
      },
      "execution_count": null,
      "outputs": []
    },
    {
      "cell_type": "code",
      "source": [
        "odi.info()"
      ],
      "metadata": {
        "execution": {
          "iopub.status.busy": "2023-01-21T23:07:38.962533Z",
          "iopub.execute_input": "2023-01-21T23:07:38.96276Z",
          "iopub.status.idle": "2023-01-21T23:07:38.983736Z",
          "shell.execute_reply.started": "2023-01-21T23:07:38.962734Z",
          "shell.execute_reply": "2023-01-21T23:07:38.982663Z"
        },
        "trusted": true,
        "id": "zfe_ZYtPSeDI"
      },
      "execution_count": null,
      "outputs": []
    },
    {
      "cell_type": "code",
      "source": [
        "odi.groupby('Final Region').mean().sort_values('Mat').tail(10)"
      ],
      "metadata": {
        "execution": {
          "iopub.status.busy": "2023-01-21T23:07:38.985108Z",
          "iopub.execute_input": "2023-01-21T23:07:38.985515Z",
          "iopub.status.idle": "2023-01-21T23:07:39.003813Z",
          "shell.execute_reply.started": "2023-01-21T23:07:38.985481Z",
          "shell.execute_reply": "2023-01-21T23:07:39.003059Z"
        },
        "trusted": true,
        "id": "1xBEfYLkSeDI"
      },
      "execution_count": null,
      "outputs": []
    },
    {
      "cell_type": "markdown",
      "source": [
        "# Data Visualization"
      ],
      "metadata": {
        "id": "C0-yTGELSeDI"
      }
    },
    {
      "cell_type": "code",
      "source": [
        "#plotting\n",
        "\n",
        "plt.figure(figsize=(20,15))\n",
        "# plt.bar(odi['Final Region'], odi['HS'], color='red')\n",
        "plt.bar(odi['Final Region'], odi['HS'], color='cyan', width=0.5, edgecolor='black')"
      ],
      "metadata": {
        "execution": {
          "iopub.status.busy": "2023-01-21T23:07:39.004946Z",
          "iopub.execute_input": "2023-01-21T23:07:39.005857Z",
          "iopub.status.idle": "2023-01-21T23:07:44.804628Z",
          "shell.execute_reply.started": "2023-01-21T23:07:39.00582Z",
          "shell.execute_reply": "2023-01-21T23:07:44.803092Z"
        },
        "trusted": true,
        "id": "aPEsCuy4SeDI"
      },
      "execution_count": null,
      "outputs": []
    },
    {
      "cell_type": "code",
      "source": [
        "plt.figure(figsize=(20,5))\n",
        "sns.pairplot(odi, hue='Final Region', palette='Set1')"
      ],
      "metadata": {
        "execution": {
          "iopub.status.busy": "2023-01-21T23:07:44.806042Z",
          "iopub.execute_input": "2023-01-21T23:07:44.806695Z",
          "iopub.status.idle": "2023-01-21T23:08:06.806772Z",
          "shell.execute_reply.started": "2023-01-21T23:07:44.806651Z",
          "shell.execute_reply": "2023-01-21T23:08:06.805613Z"
        },
        "trusted": true,
        "id": "mAZsPEA3SeDJ"
      },
      "execution_count": null,
      "outputs": []
    },
    {
      "cell_type": "code",
      "source": [
        "sns.catplot(x='Final Region', y='HS', data=odi, kind='box', palette='Set3', height=10, aspect=2)"
      ],
      "metadata": {
        "execution": {
          "iopub.status.busy": "2023-01-21T23:08:06.808356Z",
          "iopub.execute_input": "2023-01-21T23:08:06.809007Z",
          "iopub.status.idle": "2023-01-21T23:08:07.509884Z",
          "shell.execute_reply.started": "2023-01-21T23:08:06.808963Z",
          "shell.execute_reply": "2023-01-21T23:08:07.509216Z"
        },
        "trusted": true,
        "id": "3I3AOpyFSeDJ"
      },
      "execution_count": null,
      "outputs": []
    },
    {
      "cell_type": "code",
      "source": [
        "sns.displot(odi, x='HS', hue='Final Region', kind='kde', palette='Set1', height=10, aspect=2)"
      ],
      "metadata": {
        "execution": {
          "iopub.status.busy": "2023-01-21T23:08:22.51797Z",
          "iopub.execute_input": "2023-01-21T23:08:22.518761Z",
          "iopub.status.idle": "2023-01-21T23:08:23.331885Z",
          "shell.execute_reply.started": "2023-01-21T23:08:22.518714Z",
          "shell.execute_reply": "2023-01-21T23:08:23.331107Z"
        },
        "trusted": true,
        "id": "_ogku4iLSeDJ"
      },
      "execution_count": null,
      "outputs": []
    },
    {
      "cell_type": "code",
      "source": [
        "import plotly.express as px\n",
        "px.scatter(odi, x=\"HS\", y=\"Player\", animation_frame=\"End\", animation_group=\"Final Region\",\n",
        "           size=\"Runs\", color=\"Final Region\", hover_name=\"Final Region\",\n",
        "           log_x=False, size_max=200, range_x=[10,250], range_y=[0,90], height=1000)"
      ],
      "metadata": {
        "execution": {
          "iopub.status.busy": "2023-01-21T23:09:38.758811Z",
          "iopub.execute_input": "2023-01-21T23:09:38.759126Z",
          "iopub.status.idle": "2023-01-21T23:09:41.09204Z",
          "shell.execute_reply.started": "2023-01-21T23:09:38.759088Z",
          "shell.execute_reply": "2023-01-21T23:09:41.090993Z"
        },
        "trusted": true,
        "id": "IrxUs5UISeDJ"
      },
      "execution_count": null,
      "outputs": []
    },
    {
      "cell_type": "code",
      "source": [
        "import plotly.express as px\n",
        "px.scatter(odi, x=\"HS\", y=\"Player\", animation_frame=\"Start\", animation_group=\"Final Region\",\n",
        "           size=\"Runs\", color=\"Final Region\", hover_name=\"Final Region\",\n",
        "           log_x=False, size_max=200, range_x=[10,250], range_y=[0,90], height=1000)"
      ],
      "metadata": {
        "execution": {
          "iopub.status.busy": "2023-01-21T23:09:55.789732Z",
          "iopub.execute_input": "2023-01-21T23:09:55.79054Z",
          "iopub.status.idle": "2023-01-21T23:09:58.169886Z",
          "shell.execute_reply.started": "2023-01-21T23:09:55.790471Z",
          "shell.execute_reply": "2023-01-21T23:09:58.168976Z"
        },
        "trusted": true,
        "id": "v-WpV6dVSeDJ"
      },
      "execution_count": null,
      "outputs": []
    }
  ]
}